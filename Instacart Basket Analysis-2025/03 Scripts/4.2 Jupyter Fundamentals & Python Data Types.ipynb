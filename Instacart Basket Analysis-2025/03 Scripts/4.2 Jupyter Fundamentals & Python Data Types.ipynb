{
 "cells": [
  {
   "cell_type": "code",
   "execution_count": 1,
   "id": "bd16c45c-b0ac-42d6-b245-fb9af90a4ece",
   "metadata": {},
   "outputs": [],
   "source": [
    "# import libraries\n",
    "import pandas as pd\n",
    "import numpy as np\n",
    "import os"
   ]
  },
  {
   "cell_type": "code",
   "execution_count": 3,
   "id": "6531ecee-0493-4bb9-9336-f1d8601b1de8",
   "metadata": {},
   "outputs": [],
   "source": [
    "## working with python data types"
   ]
  },
  {
   "cell_type": "code",
   "execution_count": 5,
   "id": "ce127e84-0264-4cfd-9610-9c56b973794d",
   "metadata": {},
   "outputs": [
    {
     "name": "stdout",
     "output_type": "stream",
     "text": [
      "100\n"
     ]
    }
   ],
   "source": [
    "x = 47 + 53\n",
    "print(x)"
   ]
  },
  {
   "cell_type": "code",
   "execution_count": 7,
   "id": "4b752c0c-890d-4504-8b72-eafce652d204",
   "metadata": {},
   "outputs": [
    {
     "name": "stdout",
     "output_type": "stream",
     "text": [
      "100\n"
     ]
    }
   ],
   "source": [
    "x = 23 + 77\n",
    "print(x)"
   ]
  },
  {
   "cell_type": "code",
   "execution_count": 9,
   "id": "700314e0-62a8-4aa9-a103-ac360be78527",
   "metadata": {},
   "outputs": [
    {
     "name": "stdout",
     "output_type": "stream",
     "text": [
      "100\n"
     ]
    }
   ],
   "source": [
    "x = 69 + 31\n",
    "print(x)"
   ]
  },
  {
   "cell_type": "code",
   "execution_count": 11,
   "id": "ca1e0f74-e02e-43f1-ac14-91781a6fa9b8",
   "metadata": {},
   "outputs": [],
   "source": [
    "x = 25.2\n",
    "y = 3.7\n",
    "z = float(x)/float(y)"
   ]
  },
  {
   "cell_type": "code",
   "execution_count": 13,
   "id": "d6b84fa5-f08d-4ac1-9586-bc8bffd23040",
   "metadata": {},
   "outputs": [
    {
     "name": "stdout",
     "output_type": "stream",
     "text": [
      "6.8108108108108105\n"
     ]
    }
   ],
   "source": [
    "print(z)"
   ]
  },
  {
   "cell_type": "code",
   "execution_count": 15,
   "id": "1a7097a9-2b0e-43f6-a697-180e28a67711",
   "metadata": {},
   "outputs": [
    {
     "name": "stdout",
     "output_type": "stream",
     "text": [
      "3.400862068965518\n"
     ]
    }
   ],
   "source": [
    "x1 = 78.9\n",
    "y1 = 23.2\n",
    "z1 = float(x1)/float(y1)\n",
    "print(z1)"
   ]
  },
  {
   "cell_type": "code",
   "execution_count": 19,
   "id": "17b10599-fb81-403c-9e56-73e3f42cf582",
   "metadata": {},
   "outputs": [
    {
     "name": "stdout",
     "output_type": "stream",
     "text": [
      "Fundamentals\n"
     ]
    }
   ],
   "source": [
    "a = \"Funda\"\n",
    "b = \"mentals\"\n",
    "print(a+b)"
   ]
  },
  {
   "cell_type": "code",
   "execution_count": 21,
   "id": "2035a879-a521-4224-8982-4e3abc6f6ec0",
   "metadata": {},
   "outputs": [
    {
     "name": "stdout",
     "output_type": "stream",
     "text": [
      "Greetings Professor, hope this project has some interseting skills to learn.\n"
     ]
    }
   ],
   "source": [
    "a = \"Greetings Professor, \"\n",
    "b = \"hope this project has some interseting skills to learn.\"\n",
    "print(a+b)"
   ]
  },
  {
   "cell_type": "code",
   "execution_count": 23,
   "id": "5cd61129-1078-4493-95a8-9199443c56be",
   "metadata": {},
   "outputs": [
    {
     "name": "stdout",
     "output_type": "stream",
     "text": [
      "This is the end of the assignment\n"
     ]
    }
   ],
   "source": [
    "c = \"This is the end \"\n",
    "d = \"of the assignment\"\n",
    "print(c+d)"
   ]
  },
  {
   "cell_type": "code",
   "execution_count": 29,
   "id": "0d5ac2d8-aeaf-4051-900e-d2f8e7b06358",
   "metadata": {},
   "outputs": [
    {
     "data": {
      "text/plain": [
       "'BonusBonusBonusBonusBonusBonusBonusBonusBonusBonusBonusBonusBonusBonusBonusBonusBonusBonusBonusBonusBonusBonusBonusBonusBonusBonusBonusBonusBonusBonusBonusBonusBonusBonusBonusBonusBonusBonusBonusBonusBonusBonusBonusBonusBonusBonusBonusBonusBonusBonusBonusBonusBonusBonusBonusBonusBonusBonusBonusBonusBonusBonusBonusBonusBonusBonusBonusBonusBonusBonusBonusBonusBonusBonusBonusBonusBonusBonusBonusBonusBonusBonusBonusBonusBonusBonusBonusBonusBonusBonusBonusBonusBonusBonusBonusBonusBonusBonusBonusBonus'"
      ]
     },
     "execution_count": 29,
     "metadata": {},
     "output_type": "execute_result"
    }
   ],
   "source": [
    "Bonus_part = 'Bonus'\n",
    "Bonus_part * 100"
   ]
  },
  {
   "cell_type": "code",
   "execution_count": null,
   "id": "32123783-3304-4b1b-a797-1c413849eee6",
   "metadata": {},
   "outputs": [],
   "source": []
  }
 ],
 "metadata": {
  "kernelspec": {
   "display_name": "Python [conda env:base] *",
   "language": "python",
   "name": "conda-base-py"
  },
  "language_info": {
   "codemirror_mode": {
    "name": "ipython",
    "version": 3
   },
   "file_extension": ".py",
   "mimetype": "text/x-python",
   "name": "python",
   "nbconvert_exporter": "python",
   "pygments_lexer": "ipython3",
   "version": "3.12.7"
  }
 },
 "nbformat": 4,
 "nbformat_minor": 5
}
